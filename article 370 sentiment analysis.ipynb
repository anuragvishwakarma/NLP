{
 "cells": [
  {
   "cell_type": "markdown",
   "metadata": {},
   "source": [
    "# Sentiment Analysis"
   ]
  },
  {
   "cell_type": "code",
   "execution_count": 1,
   "metadata": {},
   "outputs": [],
   "source": [
    "import numpy as np\n",
    "import pandas as pd\n",
    "import string\n",
    "import nltk\n",
    "from sklearn import preprocessing\n",
    "from sklearn.feature_extraction.text import CountVectorizer, TfidfVectorizer\n",
    "from sklearn.model_selection import train_test_split\n",
    "from nltk.corpus import stopwords\n",
    "from nltk.stem.snowball import SnowballStemmer\n",
    "from matplotlib import pyplot as plt\n",
    "from vaderSentiment.vaderSentiment import SentimentIntensityAnalyzer"
   ]
  },
  {
   "cell_type": "code",
   "execution_count": 2,
   "metadata": {
    "scrolled": true
   },
   "outputs": [
    {
     "data": {
      "text/html": [
       "<div>\n",
       "<style scoped>\n",
       "    .dataframe tbody tr th:only-of-type {\n",
       "        vertical-align: middle;\n",
       "    }\n",
       "\n",
       "    .dataframe tbody tr th {\n",
       "        vertical-align: top;\n",
       "    }\n",
       "\n",
       "    .dataframe thead th {\n",
       "        text-align: right;\n",
       "    }\n",
       "</style>\n",
       "<table border=\"1\" class=\"dataframe\">\n",
       "  <thead>\n",
       "    <tr style=\"text-align: right;\">\n",
       "      <th></th>\n",
       "      <th>ID</th>\n",
       "      <th>datetime</th>\n",
       "      <th>has_media</th>\n",
       "      <th>is_reply</th>\n",
       "      <th>is_retweet</th>\n",
       "      <th>medias</th>\n",
       "      <th>nbr_favorite</th>\n",
       "      <th>nbr_reply</th>\n",
       "      <th>nbr_retweet</th>\n",
       "      <th>text</th>\n",
       "      <th>url</th>\n",
       "      <th>user_id</th>\n",
       "      <th>usernameTweet</th>\n",
       "    </tr>\n",
       "  </thead>\n",
       "  <tbody>\n",
       "    <tr>\n",
       "      <th>0</th>\n",
       "      <td>1160091065472487424</td>\n",
       "      <td>2019-08-10 13:00:38</td>\n",
       "      <td>NaN</td>\n",
       "      <td>False</td>\n",
       "      <td>False</td>\n",
       "      <td>NaN</td>\n",
       "      <td>1.0</td>\n",
       "      <td>0.0</td>\n",
       "      <td>0.0</td>\n",
       "      <td># KashmirWithModi \\nWith the scrapping of  Art...</td>\n",
       "      <td>/Hilladventure1/status/1160091065472487424</td>\n",
       "      <td>1.154411e+18</td>\n",
       "      <td>Hilladventure1</td>\n",
       "    </tr>\n",
       "    <tr>\n",
       "      <th>1</th>\n",
       "      <td>1160065502200205312</td>\n",
       "      <td>2019-08-10 11:19:03</td>\n",
       "      <td>NaN</td>\n",
       "      <td>False</td>\n",
       "      <td>False</td>\n",
       "      <td>NaN</td>\n",
       "      <td>0.0</td>\n",
       "      <td>0.0</td>\n",
       "      <td>0.0</td>\n",
       "      <td>Shocking &amp; Shameful! A must read  article  for...</td>\n",
       "      <td>/samwhitefyr/status/1160065502200205312</td>\n",
       "      <td>9.913207e+17</td>\n",
       "      <td>samwhitefyr</td>\n",
       "    </tr>\n",
       "    <tr>\n",
       "      <th>2</th>\n",
       "      <td>1161366914007875584</td>\n",
       "      <td>2019-08-14 01:30:24</td>\n",
       "      <td>NaN</td>\n",
       "      <td>True</td>\n",
       "      <td>False</td>\n",
       "      <td>NaN</td>\n",
       "      <td>0.0</td>\n",
       "      <td>0.0</td>\n",
       "      <td>0.0</td>\n",
       "      <td>What makes \" True Islam followers\" like you co...</td>\n",
       "      <td>/rashidakhan1977/status/1161366914007875584</td>\n",
       "      <td>7.105491e+17</td>\n",
       "      <td>rashidakhan1977</td>\n",
       "    </tr>\n",
       "    <tr>\n",
       "      <th>3</th>\n",
       "      <td>1162074264301785088</td>\n",
       "      <td>2019-08-16 00:21:09</td>\n",
       "      <td>NaN</td>\n",
       "      <td>True</td>\n",
       "      <td>False</td>\n",
       "      <td>NaN</td>\n",
       "      <td>0.0</td>\n",
       "      <td>0.0</td>\n",
       "      <td>0.0</td>\n",
       "      <td>Just sickening to read this thread. I guess it...</td>\n",
       "      <td>/indianbyheart76/status/1162074264301785088</td>\n",
       "      <td>5.796150e+08</td>\n",
       "      <td>indianbyheart76</td>\n",
       "    </tr>\n",
       "    <tr>\n",
       "      <th>4</th>\n",
       "      <td>1160566972569939969</td>\n",
       "      <td>2019-08-11 20:31:43</td>\n",
       "      <td>NaN</td>\n",
       "      <td>True</td>\n",
       "      <td>False</td>\n",
       "      <td>NaN</td>\n",
       "      <td>0.0</td>\n",
       "      <td>0.0</td>\n",
       "      <td>0.0</td>\n",
       "      <td>Don't worry Pyari Behna, whoever opposing or p...</td>\n",
       "      <td>/ShivaprakashYe2/status/1160566972569939969</td>\n",
       "      <td>1.134819e+18</td>\n",
       "      <td>ShivaprakashYe2</td>\n",
       "    </tr>\n",
       "  </tbody>\n",
       "</table>\n",
       "</div>"
      ],
      "text/plain": [
       "                    ID             datetime has_media  is_reply  is_retweet  \\\n",
       "0  1160091065472487424  2019-08-10 13:00:38       NaN     False       False   \n",
       "1  1160065502200205312  2019-08-10 11:19:03       NaN     False       False   \n",
       "2  1161366914007875584  2019-08-14 01:30:24       NaN      True       False   \n",
       "3  1162074264301785088  2019-08-16 00:21:09       NaN      True       False   \n",
       "4  1160566972569939969  2019-08-11 20:31:43       NaN      True       False   \n",
       "\n",
       "  medias  nbr_favorite  nbr_reply  nbr_retweet  \\\n",
       "0    NaN           1.0        0.0          0.0   \n",
       "1    NaN           0.0        0.0          0.0   \n",
       "2    NaN           0.0        0.0          0.0   \n",
       "3    NaN           0.0        0.0          0.0   \n",
       "4    NaN           0.0        0.0          0.0   \n",
       "\n",
       "                                                text  \\\n",
       "0  # KashmirWithModi \\nWith the scrapping of  Art...   \n",
       "1  Shocking & Shameful! A must read  article  for...   \n",
       "2  What makes \" True Islam followers\" like you co...   \n",
       "3  Just sickening to read this thread. I guess it...   \n",
       "4  Don't worry Pyari Behna, whoever opposing or p...   \n",
       "\n",
       "                                           url       user_id    usernameTweet  \n",
       "0   /Hilladventure1/status/1160091065472487424  1.154411e+18   Hilladventure1  \n",
       "1      /samwhitefyr/status/1160065502200205312  9.913207e+17      samwhitefyr  \n",
       "2  /rashidakhan1977/status/1161366914007875584  7.105491e+17  rashidakhan1977  \n",
       "3  /indianbyheart76/status/1162074264301785088  5.796150e+08  indianbyheart76  \n",
       "4  /ShivaprakashYe2/status/1160566972569939969  1.134819e+18  ShivaprakashYe2  "
      ]
     },
     "execution_count": 2,
     "metadata": {},
     "output_type": "execute_result"
    }
   ],
   "source": [
    "tweets = pd.read_csv(\"D:/STUDY/Datasets/twitter-data-on-abrogation-of-article-370/Tweets.csv\")\n",
    "tweets.head()"
   ]
  },
  {
   "cell_type": "code",
   "execution_count": 29,
   "metadata": {},
   "outputs": [
    {
     "data": {
      "text/plain": [
       "(227259, 12)"
      ]
     },
     "execution_count": 29,
     "metadata": {},
     "output_type": "execute_result"
    }
   ],
   "source": [
    "tweets.shape"
   ]
  },
  {
   "cell_type": "code",
   "execution_count": 3,
   "metadata": {},
   "outputs": [
    {
     "data": {
      "text/plain": [
       "ID                    0\n",
       "datetime              0\n",
       "has_media        190821\n",
       "is_reply              0\n",
       "is_retweet            0\n",
       "medias           190821\n",
       "nbr_favorite          0\n",
       "nbr_reply             0\n",
       "nbr_retweet           0\n",
       "text                  0\n",
       "url                   1\n",
       "user_id               1\n",
       "usernameTweet         1\n",
       "dtype: int64"
      ]
     },
     "execution_count": 3,
     "metadata": {},
     "output_type": "execute_result"
    }
   ],
   "source": [
    "tweets.isnull().sum()"
   ]
  },
  {
   "cell_type": "code",
   "execution_count": 4,
   "metadata": {},
   "outputs": [],
   "source": [
    "tweets = tweets.drop(['has_media','medias'],axis=1)"
   ]
  },
  {
   "cell_type": "code",
   "execution_count": 41,
   "metadata": {},
   "outputs": [],
   "source": [
    "tweets.to_csv(\"tweets.csv\")"
   ]
  },
  {
   "cell_type": "code",
   "execution_count": 6,
   "metadata": {},
   "outputs": [
    {
     "data": {
      "text/html": [
       "<div>\n",
       "<style scoped>\n",
       "    .dataframe tbody tr th:only-of-type {\n",
       "        vertical-align: middle;\n",
       "    }\n",
       "\n",
       "    .dataframe tbody tr th {\n",
       "        vertical-align: top;\n",
       "    }\n",
       "\n",
       "    .dataframe thead th {\n",
       "        text-align: right;\n",
       "    }\n",
       "</style>\n",
       "<table border=\"1\" class=\"dataframe\">\n",
       "  <thead>\n",
       "    <tr style=\"text-align: right;\">\n",
       "      <th></th>\n",
       "      <th>ID</th>\n",
       "      <th>datetime</th>\n",
       "      <th>is_reply</th>\n",
       "      <th>is_retweet</th>\n",
       "      <th>nbr_favorite</th>\n",
       "      <th>nbr_reply</th>\n",
       "      <th>nbr_retweet</th>\n",
       "      <th>text</th>\n",
       "      <th>url</th>\n",
       "      <th>user_id</th>\n",
       "      <th>usernameTweet</th>\n",
       "    </tr>\n",
       "  </thead>\n",
       "  <tbody>\n",
       "    <tr>\n",
       "      <th>0</th>\n",
       "      <td>1160091065472487424</td>\n",
       "      <td>2019-08-10 13:00:38</td>\n",
       "      <td>False</td>\n",
       "      <td>False</td>\n",
       "      <td>1.0</td>\n",
       "      <td>0.0</td>\n",
       "      <td>0.0</td>\n",
       "      <td># KashmirWithModi \\nWith the scrapping of  Art...</td>\n",
       "      <td>/Hilladventure1/status/1160091065472487424</td>\n",
       "      <td>1.154411e+18</td>\n",
       "      <td>Hilladventure1</td>\n",
       "    </tr>\n",
       "    <tr>\n",
       "      <th>1</th>\n",
       "      <td>1160065502200205312</td>\n",
       "      <td>2019-08-10 11:19:03</td>\n",
       "      <td>False</td>\n",
       "      <td>False</td>\n",
       "      <td>0.0</td>\n",
       "      <td>0.0</td>\n",
       "      <td>0.0</td>\n",
       "      <td>Shocking &amp; Shameful! A must read  article  for...</td>\n",
       "      <td>/samwhitefyr/status/1160065502200205312</td>\n",
       "      <td>9.913207e+17</td>\n",
       "      <td>samwhitefyr</td>\n",
       "    </tr>\n",
       "    <tr>\n",
       "      <th>2</th>\n",
       "      <td>1161366914007875584</td>\n",
       "      <td>2019-08-14 01:30:24</td>\n",
       "      <td>True</td>\n",
       "      <td>False</td>\n",
       "      <td>0.0</td>\n",
       "      <td>0.0</td>\n",
       "      <td>0.0</td>\n",
       "      <td>What makes \" True Islam followers\" like you co...</td>\n",
       "      <td>/rashidakhan1977/status/1161366914007875584</td>\n",
       "      <td>7.105491e+17</td>\n",
       "      <td>rashidakhan1977</td>\n",
       "    </tr>\n",
       "    <tr>\n",
       "      <th>3</th>\n",
       "      <td>1162074264301785088</td>\n",
       "      <td>2019-08-16 00:21:09</td>\n",
       "      <td>True</td>\n",
       "      <td>False</td>\n",
       "      <td>0.0</td>\n",
       "      <td>0.0</td>\n",
       "      <td>0.0</td>\n",
       "      <td>Just sickening to read this thread. I guess it...</td>\n",
       "      <td>/indianbyheart76/status/1162074264301785088</td>\n",
       "      <td>5.796150e+08</td>\n",
       "      <td>indianbyheart76</td>\n",
       "    </tr>\n",
       "    <tr>\n",
       "      <th>4</th>\n",
       "      <td>1160566972569939969</td>\n",
       "      <td>2019-08-11 20:31:43</td>\n",
       "      <td>True</td>\n",
       "      <td>False</td>\n",
       "      <td>0.0</td>\n",
       "      <td>0.0</td>\n",
       "      <td>0.0</td>\n",
       "      <td>Don't worry Pyari Behna, whoever opposing or p...</td>\n",
       "      <td>/ShivaprakashYe2/status/1160566972569939969</td>\n",
       "      <td>1.134819e+18</td>\n",
       "      <td>ShivaprakashYe2</td>\n",
       "    </tr>\n",
       "  </tbody>\n",
       "</table>\n",
       "</div>"
      ],
      "text/plain": [
       "                    ID             datetime  is_reply  is_retweet  \\\n",
       "0  1160091065472487424  2019-08-10 13:00:38     False       False   \n",
       "1  1160065502200205312  2019-08-10 11:19:03     False       False   \n",
       "2  1161366914007875584  2019-08-14 01:30:24      True       False   \n",
       "3  1162074264301785088  2019-08-16 00:21:09      True       False   \n",
       "4  1160566972569939969  2019-08-11 20:31:43      True       False   \n",
       "\n",
       "   nbr_favorite  nbr_reply  nbr_retweet  \\\n",
       "0           1.0        0.0          0.0   \n",
       "1           0.0        0.0          0.0   \n",
       "2           0.0        0.0          0.0   \n",
       "3           0.0        0.0          0.0   \n",
       "4           0.0        0.0          0.0   \n",
       "\n",
       "                                                text  \\\n",
       "0  # KashmirWithModi \\nWith the scrapping of  Art...   \n",
       "1  Shocking & Shameful! A must read  article  for...   \n",
       "2  What makes \" True Islam followers\" like you co...   \n",
       "3  Just sickening to read this thread. I guess it...   \n",
       "4  Don't worry Pyari Behna, whoever opposing or p...   \n",
       "\n",
       "                                           url       user_id    usernameTweet  \n",
       "0   /Hilladventure1/status/1160091065472487424  1.154411e+18   Hilladventure1  \n",
       "1      /samwhitefyr/status/1160065502200205312  9.913207e+17      samwhitefyr  \n",
       "2  /rashidakhan1977/status/1161366914007875584  7.105491e+17  rashidakhan1977  \n",
       "3  /indianbyheart76/status/1162074264301785088  5.796150e+08  indianbyheart76  \n",
       "4  /ShivaprakashYe2/status/1160566972569939969  1.134819e+18  ShivaprakashYe2  "
      ]
     },
     "execution_count": 6,
     "metadata": {},
     "output_type": "execute_result"
    }
   ],
   "source": [
    "tweets.head()"
   ]
  },
  {
   "cell_type": "code",
   "execution_count": 7,
   "metadata": {},
   "outputs": [],
   "source": [
    "from vaderSentiment.vaderSentiment import SentimentIntensityAnalyzer"
   ]
  },
  {
   "cell_type": "code",
   "execution_count": 8,
   "metadata": {},
   "outputs": [],
   "source": [
    "senti = SentimentIntensityAnalyzer()"
   ]
  },
  {
   "cell_type": "code",
   "execution_count": 9,
   "metadata": {},
   "outputs": [],
   "source": [
    "# Creating a function\n",
    "\n",
    "text_polar = lambda x: senti.polarity_scores(x)['compound']"
   ]
  },
  {
   "cell_type": "code",
   "execution_count": 11,
   "metadata": {},
   "outputs": [
    {
     "data": {
      "text/html": [
       "<div>\n",
       "<style scoped>\n",
       "    .dataframe tbody tr th:only-of-type {\n",
       "        vertical-align: middle;\n",
       "    }\n",
       "\n",
       "    .dataframe tbody tr th {\n",
       "        vertical-align: top;\n",
       "    }\n",
       "\n",
       "    .dataframe thead th {\n",
       "        text-align: right;\n",
       "    }\n",
       "</style>\n",
       "<table border=\"1\" class=\"dataframe\">\n",
       "  <thead>\n",
       "    <tr style=\"text-align: right;\">\n",
       "      <th></th>\n",
       "      <th>ID</th>\n",
       "      <th>datetime</th>\n",
       "      <th>is_reply</th>\n",
       "      <th>is_retweet</th>\n",
       "      <th>nbr_favorite</th>\n",
       "      <th>nbr_reply</th>\n",
       "      <th>nbr_retweet</th>\n",
       "      <th>text</th>\n",
       "      <th>url</th>\n",
       "      <th>user_id</th>\n",
       "      <th>usernameTweet</th>\n",
       "      <th>Polarity_score</th>\n",
       "    </tr>\n",
       "  </thead>\n",
       "  <tbody>\n",
       "    <tr>\n",
       "      <th>0</th>\n",
       "      <td>1160091065472487424</td>\n",
       "      <td>2019-08-10 13:00:38</td>\n",
       "      <td>False</td>\n",
       "      <td>False</td>\n",
       "      <td>1.0</td>\n",
       "      <td>0.0</td>\n",
       "      <td>0.0</td>\n",
       "      <td># KashmirWithModi \\nWith the scrapping of  Art...</td>\n",
       "      <td>/Hilladventure1/status/1160091065472487424</td>\n",
       "      <td>1.154411e+18</td>\n",
       "      <td>Hilladventure1</td>\n",
       "      <td>0.5859</td>\n",
       "    </tr>\n",
       "    <tr>\n",
       "      <th>1</th>\n",
       "      <td>1160065502200205312</td>\n",
       "      <td>2019-08-10 11:19:03</td>\n",
       "      <td>False</td>\n",
       "      <td>False</td>\n",
       "      <td>0.0</td>\n",
       "      <td>0.0</td>\n",
       "      <td>0.0</td>\n",
       "      <td>Shocking &amp; Shameful! A must read  article  for...</td>\n",
       "      <td>/samwhitefyr/status/1160065502200205312</td>\n",
       "      <td>9.913207e+17</td>\n",
       "      <td>samwhitefyr</td>\n",
       "      <td>-0.7500</td>\n",
       "    </tr>\n",
       "    <tr>\n",
       "      <th>2</th>\n",
       "      <td>1161366914007875584</td>\n",
       "      <td>2019-08-14 01:30:24</td>\n",
       "      <td>True</td>\n",
       "      <td>False</td>\n",
       "      <td>0.0</td>\n",
       "      <td>0.0</td>\n",
       "      <td>0.0</td>\n",
       "      <td>What makes \" True Islam followers\" like you co...</td>\n",
       "      <td>/rashidakhan1977/status/1161366914007875584</td>\n",
       "      <td>7.105491e+17</td>\n",
       "      <td>rashidakhan1977</td>\n",
       "      <td>0.6860</td>\n",
       "    </tr>\n",
       "    <tr>\n",
       "      <th>3</th>\n",
       "      <td>1162074264301785088</td>\n",
       "      <td>2019-08-16 00:21:09</td>\n",
       "      <td>True</td>\n",
       "      <td>False</td>\n",
       "      <td>0.0</td>\n",
       "      <td>0.0</td>\n",
       "      <td>0.0</td>\n",
       "      <td>Just sickening to read this thread. I guess it...</td>\n",
       "      <td>/indianbyheart76/status/1162074264301785088</td>\n",
       "      <td>5.796150e+08</td>\n",
       "      <td>indianbyheart76</td>\n",
       "      <td>-0.4895</td>\n",
       "    </tr>\n",
       "    <tr>\n",
       "      <th>4</th>\n",
       "      <td>1160566972569939969</td>\n",
       "      <td>2019-08-11 20:31:43</td>\n",
       "      <td>True</td>\n",
       "      <td>False</td>\n",
       "      <td>0.0</td>\n",
       "      <td>0.0</td>\n",
       "      <td>0.0</td>\n",
       "      <td>Don't worry Pyari Behna, whoever opposing or p...</td>\n",
       "      <td>/ShivaprakashYe2/status/1160566972569939969</td>\n",
       "      <td>1.134819e+18</td>\n",
       "      <td>ShivaprakashYe2</td>\n",
       "      <td>0.2514</td>\n",
       "    </tr>\n",
       "  </tbody>\n",
       "</table>\n",
       "</div>"
      ],
      "text/plain": [
       "                    ID             datetime  is_reply  is_retweet  \\\n",
       "0  1160091065472487424  2019-08-10 13:00:38     False       False   \n",
       "1  1160065502200205312  2019-08-10 11:19:03     False       False   \n",
       "2  1161366914007875584  2019-08-14 01:30:24      True       False   \n",
       "3  1162074264301785088  2019-08-16 00:21:09      True       False   \n",
       "4  1160566972569939969  2019-08-11 20:31:43      True       False   \n",
       "\n",
       "   nbr_favorite  nbr_reply  nbr_retweet  \\\n",
       "0           1.0        0.0          0.0   \n",
       "1           0.0        0.0          0.0   \n",
       "2           0.0        0.0          0.0   \n",
       "3           0.0        0.0          0.0   \n",
       "4           0.0        0.0          0.0   \n",
       "\n",
       "                                                text  \\\n",
       "0  # KashmirWithModi \\nWith the scrapping of  Art...   \n",
       "1  Shocking & Shameful! A must read  article  for...   \n",
       "2  What makes \" True Islam followers\" like you co...   \n",
       "3  Just sickening to read this thread. I guess it...   \n",
       "4  Don't worry Pyari Behna, whoever opposing or p...   \n",
       "\n",
       "                                           url       user_id    usernameTweet  \\\n",
       "0   /Hilladventure1/status/1160091065472487424  1.154411e+18   Hilladventure1   \n",
       "1      /samwhitefyr/status/1160065502200205312  9.913207e+17      samwhitefyr   \n",
       "2  /rashidakhan1977/status/1161366914007875584  7.105491e+17  rashidakhan1977   \n",
       "3  /indianbyheart76/status/1162074264301785088  5.796150e+08  indianbyheart76   \n",
       "4  /ShivaprakashYe2/status/1160566972569939969  1.134819e+18  ShivaprakashYe2   \n",
       "\n",
       "   Polarity_score  \n",
       "0          0.5859  \n",
       "1         -0.7500  \n",
       "2          0.6860  \n",
       "3         -0.4895  \n",
       "4          0.2514  "
      ]
     },
     "execution_count": 11,
     "metadata": {},
     "output_type": "execute_result"
    }
   ],
   "source": [
    "tweets['Polarity_score'] = tweets['text'].apply(text_polar)\n",
    "\n",
    "tweets.head()"
   ]
  },
  {
   "cell_type": "code",
   "execution_count": 14,
   "metadata": {},
   "outputs": [],
   "source": [
    "text = tweets[['text','Polarity_score']]"
   ]
  },
  {
   "cell_type": "code",
   "execution_count": 15,
   "metadata": {},
   "outputs": [
    {
     "data": {
      "text/html": [
       "<div>\n",
       "<style scoped>\n",
       "    .dataframe tbody tr th:only-of-type {\n",
       "        vertical-align: middle;\n",
       "    }\n",
       "\n",
       "    .dataframe tbody tr th {\n",
       "        vertical-align: top;\n",
       "    }\n",
       "\n",
       "    .dataframe thead th {\n",
       "        text-align: right;\n",
       "    }\n",
       "</style>\n",
       "<table border=\"1\" class=\"dataframe\">\n",
       "  <thead>\n",
       "    <tr style=\"text-align: right;\">\n",
       "      <th></th>\n",
       "      <th>text</th>\n",
       "      <th>Polarity_score</th>\n",
       "    </tr>\n",
       "  </thead>\n",
       "  <tbody>\n",
       "    <tr>\n",
       "      <th>0</th>\n",
       "      <td># KashmirWithModi \\nWith the scrapping of  Art...</td>\n",
       "      <td>0.5859</td>\n",
       "    </tr>\n",
       "    <tr>\n",
       "      <th>1</th>\n",
       "      <td>Shocking &amp; Shameful! A must read  article  for...</td>\n",
       "      <td>-0.7500</td>\n",
       "    </tr>\n",
       "    <tr>\n",
       "      <th>2</th>\n",
       "      <td>What makes \" True Islam followers\" like you co...</td>\n",
       "      <td>0.6860</td>\n",
       "    </tr>\n",
       "    <tr>\n",
       "      <th>3</th>\n",
       "      <td>Just sickening to read this thread. I guess it...</td>\n",
       "      <td>-0.4895</td>\n",
       "    </tr>\n",
       "    <tr>\n",
       "      <th>4</th>\n",
       "      <td>Don't worry Pyari Behna, whoever opposing or p...</td>\n",
       "      <td>0.2514</td>\n",
       "    </tr>\n",
       "  </tbody>\n",
       "</table>\n",
       "</div>"
      ],
      "text/plain": [
       "                                                text  Polarity_score\n",
       "0  # KashmirWithModi \\nWith the scrapping of  Art...          0.5859\n",
       "1  Shocking & Shameful! A must read  article  for...         -0.7500\n",
       "2  What makes \" True Islam followers\" like you co...          0.6860\n",
       "3  Just sickening to read this thread. I guess it...         -0.4895\n",
       "4  Don't worry Pyari Behna, whoever opposing or p...          0.2514"
      ]
     },
     "execution_count": 15,
     "metadata": {},
     "output_type": "execute_result"
    }
   ],
   "source": [
    "text.head()"
   ]
  },
  {
   "cell_type": "code",
   "execution_count": 16,
   "metadata": {},
   "outputs": [],
   "source": [
    "# Categorizing the polarity range\n",
    "sentiment_mapping = {1 : \"Very Bad\", 2 : \"Bad\", 3 : \"Neutral\", 4 : \"Good\", 5 : \"Very Good\"}\n",
    "\n",
    "map_sentiment = lambda val : np.digitize(val, [-1, -0.8, -0.25, 0.25, 0.8])"
   ]
  },
  {
   "cell_type": "code",
   "execution_count": 17,
   "metadata": {},
   "outputs": [
    {
     "name": "stderr",
     "output_type": "stream",
     "text": [
      "C:\\Users\\anura\\Anaconda3\\lib\\site-packages\\ipykernel_launcher.py:1: SettingWithCopyWarning: \n",
      "A value is trying to be set on a copy of a slice from a DataFrame.\n",
      "Try using .loc[row_indexer,col_indexer] = value instead\n",
      "\n",
      "See the caveats in the documentation: http://pandas.pydata.org/pandas-docs/stable/indexing.html#indexing-view-versus-copy\n",
      "  \"\"\"Entry point for launching an IPython kernel.\n",
      "C:\\Users\\anura\\Anaconda3\\lib\\site-packages\\ipykernel_launcher.py:5: SettingWithCopyWarning: \n",
      "A value is trying to be set on a copy of a slice from a DataFrame.\n",
      "Try using .loc[row_indexer,col_indexer] = value instead\n",
      "\n",
      "See the caveats in the documentation: http://pandas.pydata.org/pandas-docs/stable/indexing.html#indexing-view-versus-copy\n",
      "  \"\"\"\n"
     ]
    },
    {
     "data": {
      "text/html": [
       "<div>\n",
       "<style scoped>\n",
       "    .dataframe tbody tr th:only-of-type {\n",
       "        vertical-align: middle;\n",
       "    }\n",
       "\n",
       "    .dataframe tbody tr th {\n",
       "        vertical-align: top;\n",
       "    }\n",
       "\n",
       "    .dataframe thead th {\n",
       "        text-align: right;\n",
       "    }\n",
       "</style>\n",
       "<table border=\"1\" class=\"dataframe\">\n",
       "  <thead>\n",
       "    <tr style=\"text-align: right;\">\n",
       "      <th></th>\n",
       "      <th>text</th>\n",
       "      <th>Polarity_score</th>\n",
       "      <th>Sentiment_category</th>\n",
       "      <th>Label</th>\n",
       "    </tr>\n",
       "  </thead>\n",
       "  <tbody>\n",
       "    <tr>\n",
       "      <th>0</th>\n",
       "      <td># KashmirWithModi \\nWith the scrapping of  Art...</td>\n",
       "      <td>0.5859</td>\n",
       "      <td>4</td>\n",
       "      <td>Good</td>\n",
       "    </tr>\n",
       "    <tr>\n",
       "      <th>1</th>\n",
       "      <td>Shocking &amp; Shameful! A must read  article  for...</td>\n",
       "      <td>-0.7500</td>\n",
       "      <td>2</td>\n",
       "      <td>Bad</td>\n",
       "    </tr>\n",
       "    <tr>\n",
       "      <th>2</th>\n",
       "      <td>What makes \" True Islam followers\" like you co...</td>\n",
       "      <td>0.6860</td>\n",
       "      <td>4</td>\n",
       "      <td>Good</td>\n",
       "    </tr>\n",
       "    <tr>\n",
       "      <th>3</th>\n",
       "      <td>Just sickening to read this thread. I guess it...</td>\n",
       "      <td>-0.4895</td>\n",
       "      <td>2</td>\n",
       "      <td>Bad</td>\n",
       "    </tr>\n",
       "    <tr>\n",
       "      <th>4</th>\n",
       "      <td>Don't worry Pyari Behna, whoever opposing or p...</td>\n",
       "      <td>0.2514</td>\n",
       "      <td>4</td>\n",
       "      <td>Good</td>\n",
       "    </tr>\n",
       "  </tbody>\n",
       "</table>\n",
       "</div>"
      ],
      "text/plain": [
       "                                                text  Polarity_score  \\\n",
       "0  # KashmirWithModi \\nWith the scrapping of  Art...          0.5859   \n",
       "1  Shocking & Shameful! A must read  article  for...         -0.7500   \n",
       "2  What makes \" True Islam followers\" like you co...          0.6860   \n",
       "3  Just sickening to read this thread. I guess it...         -0.4895   \n",
       "4  Don't worry Pyari Behna, whoever opposing or p...          0.2514   \n",
       "\n",
       "   Sentiment_category Label  \n",
       "0                   4  Good  \n",
       "1                   2   Bad  \n",
       "2                   4  Good  \n",
       "3                   2   Bad  \n",
       "4                   4  Good  "
      ]
     },
     "execution_count": 17,
     "metadata": {},
     "output_type": "execute_result"
    }
   ],
   "source": [
    "text['Sentiment_category'] = text['Polarity_score'].apply(map_sentiment)\n",
    "\n",
    "# Labeling the sentiment category\n",
    "\n",
    "text['Label'] = text['Sentiment_category'].map(sentiment_mapping)\n",
    "\n",
    "text.head()"
   ]
  },
  {
   "cell_type": "code",
   "execution_count": 19,
   "metadata": {},
   "outputs": [],
   "source": [
    "text.to_csv(\"sentiment_analysis_article370.csv\")"
   ]
  },
  {
   "cell_type": "code",
   "execution_count": 21,
   "metadata": {},
   "outputs": [],
   "source": [
    "# Creating the test and training data\n",
    "\n",
    "X = text['text']\n",
    "\n",
    "Y = text['Label']\n",
    "\n",
    "X_train, X_test, Y_train, Y_test = train_test_split(X,Y , test_size = 0.2 , random_state = 1234)\n"
   ]
  },
  {
   "cell_type": "code",
   "execution_count": 22,
   "metadata": {},
   "outputs": [
    {
     "data": {
      "text/plain": [
       "((181807,), (181807,))"
      ]
     },
     "execution_count": 22,
     "metadata": {},
     "output_type": "execute_result"
    }
   ],
   "source": [
    "X_train.shape , Y_train.shape"
   ]
  },
  {
   "cell_type": "code",
   "execution_count": 23,
   "metadata": {},
   "outputs": [
    {
     "data": {
      "text/plain": [
       "<181807x144882 sparse matrix of type '<class 'numpy.float64'>'\n",
       "\twith 4541011 stored elements in Compressed Sparse Row format>"
      ]
     },
     "execution_count": 23,
     "metadata": {},
     "output_type": "execute_result"
    }
   ],
   "source": [
    "# Creatin a DTM \n",
    "\n",
    "vec = TfidfVectorizer()\n",
    "\n",
    "X_train_vect =vec.fit_transform(X_train)\n",
    "\n",
    "X_train_vect"
   ]
  },
  {
   "cell_type": "code",
   "execution_count": 24,
   "metadata": {},
   "outputs": [],
   "source": [
    "# Build a Model\n",
    "\n",
    "from sklearn.naive_bayes import MultinomialNB\n",
    "\n",
    "nb_model = MultinomialNB()"
   ]
  },
  {
   "cell_type": "code",
   "execution_count": 25,
   "metadata": {},
   "outputs": [
    {
     "data": {
      "text/plain": [
       "MultinomialNB(alpha=1.0, class_prior=None, fit_prior=True)"
      ]
     },
     "execution_count": 25,
     "metadata": {},
     "output_type": "execute_result"
    }
   ],
   "source": [
    "# Fitting the model on X_train_vect and Y_train\n",
    "\n",
    "nb_model.fit(X_train_vect,Y_train)"
   ]
  },
  {
   "cell_type": "code",
   "execution_count": 26,
   "metadata": {},
   "outputs": [
    {
     "data": {
      "text/plain": [
       "<45452x144882 sparse matrix of type '<class 'numpy.float64'>'\n",
       "\twith 1108336 stored elements in Compressed Sparse Row format>"
      ]
     },
     "execution_count": 26,
     "metadata": {},
     "output_type": "execute_result"
    }
   ],
   "source": [
    "X_test_vect = vec.transform(X_test)\n",
    "\n",
    "X_test_vect"
   ]
  },
  {
   "cell_type": "code",
   "execution_count": 27,
   "metadata": {},
   "outputs": [
    {
     "data": {
      "text/plain": [
       "array(['Neutral', 'Good', 'Good', ..., 'Good', 'Good', 'Good'],\n",
       "      dtype='<U9')"
      ]
     },
     "execution_count": 27,
     "metadata": {},
     "output_type": "execute_result"
    }
   ],
   "source": [
    "Y_Pred = nb_model.predict(X_test_vect)\n",
    "\n",
    "Y_Pred"
   ]
  },
  {
   "cell_type": "code",
   "execution_count": 28,
   "metadata": {},
   "outputs": [
    {
     "data": {
      "text/plain": [
       "Neutral      68321\n",
       "Good         62000\n",
       "Bad          31815\n",
       "Very Good    14431\n",
       "Very Bad      5240\n",
       "Name: Label, dtype: int64"
      ]
     },
     "execution_count": 28,
     "metadata": {},
     "output_type": "execute_result"
    }
   ],
   "source": [
    "Y_train.value_counts()"
   ]
  },
  {
   "cell_type": "code",
   "execution_count": 30,
   "metadata": {},
   "outputs": [],
   "source": [
    "# This shows that most of the tweets are Positive in Nature."
   ]
  },
  {
   "cell_type": "code",
   "execution_count": 31,
   "metadata": {},
   "outputs": [
    {
     "data": {
      "text/plain": [
       "0.5731760978614803"
      ]
     },
     "execution_count": 31,
     "metadata": {},
     "output_type": "execute_result"
    }
   ],
   "source": [
    "from sklearn.metrics import accuracy_score , confusion_matrix\n",
    "\n",
    "accuracy_score(Y_test , Y_Pred)"
   ]
  },
  {
   "cell_type": "code",
   "execution_count": 32,
   "metadata": {},
   "outputs": [
    {
     "data": {
      "text/plain": [
       "array([[ 1047,  2868,  3983,     0,     0],\n",
       "       [   42, 12592,  2835,     0,     0],\n",
       "       [  118,  4692, 12406,     0,     1],\n",
       "       [  445,   396,   414,     0,     0],\n",
       "       [    3,  3533,    70,     0,     7]], dtype=int64)"
      ]
     },
     "execution_count": 32,
     "metadata": {},
     "output_type": "execute_result"
    }
   ],
   "source": [
    "confusion_matrix(Y_test , Y_Pred)"
   ]
  },
  {
   "cell_type": "code",
   "execution_count": 62,
   "metadata": {},
   "outputs": [],
   "source": [
    "from sklearn.ensemble import RandomForestClassifier"
   ]
  },
  {
   "cell_type": "code",
   "execution_count": 63,
   "metadata": {},
   "outputs": [],
   "source": [
    "clf = RandomForestClassifier(n_estimators=100)"
   ]
  },
  {
   "cell_type": "code",
   "execution_count": null,
   "metadata": {},
   "outputs": [],
   "source": []
  },
  {
   "cell_type": "markdown",
   "metadata": {},
   "source": [
    "## Topic modelling"
   ]
  },
  {
   "cell_type": "code",
   "execution_count": 42,
   "metadata": {},
   "outputs": [],
   "source": [
    "from sklearn.decomposition import LatentDirichletAllocation"
   ]
  },
  {
   "cell_type": "code",
   "execution_count": 43,
   "metadata": {},
   "outputs": [
    {
     "name": "stdout",
     "output_type": "stream",
     "text": [
      "# KashmirWithModi \n",
      "With the scrapping of  Article   370 , the dream of Sardar Patel, Baba Saheb Ambedkar, Dr Syama Prasad Mukherjee, Atalji and of crores of patriots has been fulfilled. \n",
      "@aajtak  @RepMarkMeadows  @TheNationalUAE  @CovfefeKatie pic.twitter.com/ARxmbYfwww\n"
     ]
    }
   ],
   "source": [
    "# Lets take the reviews.text column from the data\n",
    "text = tweets[[\"text\"]]\n",
    "print(text['text'][0])"
   ]
  },
  {
   "cell_type": "code",
   "execution_count": 44,
   "metadata": {},
   "outputs": [
    {
     "name": "stdout",
     "output_type": "stream",
     "text": [
      " kashmirwithmodi with the scrapping of  article     the dream of sardar patel baba saheb ambedkar dr syama prasad mukherjee atalji and of crores of patriots has been fulfilled aajtak  repmarkmeadows  thenationaluae  covfefekatie pictwittercomarxmbyfwww\n"
     ]
    },
    {
     "name": "stderr",
     "output_type": "stream",
     "text": [
      "C:\\Users\\anura\\Anaconda3\\lib\\site-packages\\ipykernel_launcher.py:3: SettingWithCopyWarning: \n",
      "A value is trying to be set on a copy of a slice from a DataFrame.\n",
      "Try using .loc[row_indexer,col_indexer] = value instead\n",
      "\n",
      "See the caveats in the documentation: http://pandas.pydata.org/pandas-docs/stable/indexing.html#indexing-view-versus-copy\n",
      "  This is separate from the ipykernel package so we can avoid doing imports until\n"
     ]
    }
   ],
   "source": [
    "# Step 1 : Convert every thing into lower case\n",
    "\n",
    "text['Clean_text'] = text['text'].str.lower().str.replace('[^a-z ]', '')\n",
    "print(text['Clean_text'][0])"
   ]
  },
  {
   "cell_type": "code",
   "execution_count": 45,
   "metadata": {},
   "outputs": [
    {
     "name": "stdout",
     "output_type": "stream",
     "text": [
      "kashmirwithmodi scrapping article dream sardar patel baba saheb ambedkar dr syama prasad mukherjee atalji crores patriots fulfilled aajtak repmarkmeadows thenationaluae covfefekatie pictwittercomarxmbyfwww\n"
     ]
    },
    {
     "name": "stderr",
     "output_type": "stream",
     "text": [
      "C:\\Users\\anura\\Anaconda3\\lib\\site-packages\\ipykernel_launcher.py:9: SettingWithCopyWarning: \n",
      "A value is trying to be set on a copy of a slice from a DataFrame.\n",
      "Try using .loc[row_indexer,col_indexer] = value instead\n",
      "\n",
      "See the caveats in the documentation: http://pandas.pydata.org/pandas-docs/stable/indexing.html#indexing-view-versus-copy\n",
      "  if __name__ == '__main__':\n"
     ]
    }
   ],
   "source": [
    "# Step 2: Remove stop words\n",
    "\n",
    "stop = set(stopwords.words('english'))\n",
    "\n",
    "def sw(text):\n",
    "    text = [word for word in text.split() if word not in stop]\n",
    "    return \" \".join(text)\n",
    "\n",
    "text['Split_words'] = text['Clean_text'].apply(sw)\n",
    "\n",
    "print(text['Split_words'][0])"
   ]
  },
  {
   "cell_type": "code",
   "execution_count": 46,
   "metadata": {},
   "outputs": [
    {
     "data": {
      "text/html": [
       "<div>\n",
       "<style scoped>\n",
       "    .dataframe tbody tr th:only-of-type {\n",
       "        vertical-align: middle;\n",
       "    }\n",
       "\n",
       "    .dataframe tbody tr th {\n",
       "        vertical-align: top;\n",
       "    }\n",
       "\n",
       "    .dataframe thead th {\n",
       "        text-align: right;\n",
       "    }\n",
       "</style>\n",
       "<table border=\"1\" class=\"dataframe\">\n",
       "  <thead>\n",
       "    <tr style=\"text-align: right;\">\n",
       "      <th></th>\n",
       "      <th>text</th>\n",
       "      <th>Clean_text</th>\n",
       "      <th>Split_words</th>\n",
       "    </tr>\n",
       "  </thead>\n",
       "  <tbody>\n",
       "    <tr>\n",
       "      <th>0</th>\n",
       "      <td># KashmirWithModi \\nWith the scrapping of  Art...</td>\n",
       "      <td>kashmirwithmodi with the scrapping of  articl...</td>\n",
       "      <td>kashmirwithmodi scrapping article dream sardar...</td>\n",
       "    </tr>\n",
       "    <tr>\n",
       "      <th>1</th>\n",
       "      <td>Shocking &amp; Shameful! A must read  article  for...</td>\n",
       "      <td>shocking  shameful a must read  article  for e...</td>\n",
       "      <td>shocking shameful must read article everyone e...</td>\n",
       "    </tr>\n",
       "    <tr>\n",
       "      <th>2</th>\n",
       "      <td>What makes \" True Islam followers\" like you co...</td>\n",
       "      <td>what makes  true islam followers like you conf...</td>\n",
       "      <td>makes true islam followers like conflate faith...</td>\n",
       "    </tr>\n",
       "    <tr>\n",
       "      <th>3</th>\n",
       "      <td>Just sickening to read this thread. I guess it...</td>\n",
       "      <td>just sickening to read this thread i guess it ...</td>\n",
       "      <td>sickening read thread guess doesnt matter arti...</td>\n",
       "    </tr>\n",
       "    <tr>\n",
       "      <th>4</th>\n",
       "      <td>Don't worry Pyari Behna, whoever opposing or p...</td>\n",
       "      <td>dont worry pyari behna whoever opposing or pro...</td>\n",
       "      <td>dont worry pyari behna whoever opposing protes...</td>\n",
       "    </tr>\n",
       "  </tbody>\n",
       "</table>\n",
       "</div>"
      ],
      "text/plain": [
       "                                                text  \\\n",
       "0  # KashmirWithModi \\nWith the scrapping of  Art...   \n",
       "1  Shocking & Shameful! A must read  article  for...   \n",
       "2  What makes \" True Islam followers\" like you co...   \n",
       "3  Just sickening to read this thread. I guess it...   \n",
       "4  Don't worry Pyari Behna, whoever opposing or p...   \n",
       "\n",
       "                                          Clean_text  \\\n",
       "0   kashmirwithmodi with the scrapping of  articl...   \n",
       "1  shocking  shameful a must read  article  for e...   \n",
       "2  what makes  true islam followers like you conf...   \n",
       "3  just sickening to read this thread i guess it ...   \n",
       "4  dont worry pyari behna whoever opposing or pro...   \n",
       "\n",
       "                                         Split_words  \n",
       "0  kashmirwithmodi scrapping article dream sardar...  \n",
       "1  shocking shameful must read article everyone e...  \n",
       "2  makes true islam followers like conflate faith...  \n",
       "3  sickening read thread guess doesnt matter arti...  \n",
       "4  dont worry pyari behna whoever opposing protes...  "
      ]
     },
     "execution_count": 46,
     "metadata": {},
     "output_type": "execute_result"
    }
   ],
   "source": [
    "text.head()"
   ]
  },
  {
   "cell_type": "code",
   "execution_count": 47,
   "metadata": {},
   "outputs": [
    {
     "data": {
      "text/plain": [
       "<227259x225566 sparse matrix of type '<class 'numpy.float64'>'\n",
       "\twith 3419794 stored elements in Compressed Sparse Row format>"
      ]
     },
     "execution_count": 47,
     "metadata": {},
     "output_type": "execute_result"
    }
   ],
   "source": [
    "# Create a DTM with Tfidf vectorizer\n",
    "\n",
    "vect = TfidfVectorizer()\n",
    "\n",
    "DTM = vect.fit_transform(text['Split_words'])\n",
    "\n",
    "DTM"
   ]
  },
  {
   "cell_type": "code",
   "execution_count": 48,
   "metadata": {},
   "outputs": [
    {
     "name": "stdout",
     "output_type": "stream",
     "text": [
      "[[0.03744353 0.03747539 0.03751085 0.84977807 0.03779215]\n",
      " [0.04072172 0.04076204 0.83707548 0.04072533 0.04071543]\n",
      " [0.03448722 0.03447951 0.86198917 0.03458052 0.03446358]\n",
      " ...\n",
      " [0.04402916 0.04393707 0.72006633 0.1480181  0.04394934]\n",
      " [0.0426109  0.5162613  0.35332004 0.04586665 0.04194111]\n",
      " [0.82264774 0.04376823 0.04499415 0.04477351 0.04381637]]\n"
     ]
    }
   ],
   "source": [
    "# Model \n",
    "\n",
    "lda = LatentDirichletAllocation(n_components=5 , max_iter= 10)\n",
    "\n",
    "lda_output = lda.fit_transform(DTM)\n",
    "\n",
    "print(lda_output)\n"
   ]
  },
  {
   "cell_type": "code",
   "execution_count": 49,
   "metadata": {},
   "outputs": [
    {
     "data": {
      "text/plain": [
       "(227259, 5)"
      ]
     },
     "execution_count": 49,
     "metadata": {},
     "output_type": "execute_result"
    }
   ],
   "source": [
    "lda_output.shape"
   ]
  },
  {
   "cell_type": "code",
   "execution_count": 52,
   "metadata": {},
   "outputs": [],
   "source": [
    "# Document Topic Matrix\n",
    "topicname = ['Topic' + str(i) for i in range(lda.n_components)]\n",
    "\n",
    "docname = ['Doc' + str(i) for i in range(DTM.shape[0])] "
   ]
  },
  {
   "cell_type": "code",
   "execution_count": 53,
   "metadata": {},
   "outputs": [
    {
     "data": {
      "text/html": [
       "<div>\n",
       "<style scoped>\n",
       "    .dataframe tbody tr th:only-of-type {\n",
       "        vertical-align: middle;\n",
       "    }\n",
       "\n",
       "    .dataframe tbody tr th {\n",
       "        vertical-align: top;\n",
       "    }\n",
       "\n",
       "    .dataframe thead th {\n",
       "        text-align: right;\n",
       "    }\n",
       "</style>\n",
       "<table border=\"1\" class=\"dataframe\">\n",
       "  <thead>\n",
       "    <tr style=\"text-align: right;\">\n",
       "      <th></th>\n",
       "      <th>Topic0</th>\n",
       "      <th>Topic1</th>\n",
       "      <th>Topic2</th>\n",
       "      <th>Topic3</th>\n",
       "      <th>Topic4</th>\n",
       "    </tr>\n",
       "  </thead>\n",
       "  <tbody>\n",
       "    <tr>\n",
       "      <th>Doc0</th>\n",
       "      <td>0.04</td>\n",
       "      <td>0.04</td>\n",
       "      <td>0.04</td>\n",
       "      <td>0.85</td>\n",
       "      <td>0.04</td>\n",
       "    </tr>\n",
       "    <tr>\n",
       "      <th>Doc1</th>\n",
       "      <td>0.04</td>\n",
       "      <td>0.04</td>\n",
       "      <td>0.84</td>\n",
       "      <td>0.04</td>\n",
       "      <td>0.04</td>\n",
       "    </tr>\n",
       "    <tr>\n",
       "      <th>Doc2</th>\n",
       "      <td>0.03</td>\n",
       "      <td>0.03</td>\n",
       "      <td>0.86</td>\n",
       "      <td>0.03</td>\n",
       "      <td>0.03</td>\n",
       "    </tr>\n",
       "    <tr>\n",
       "      <th>Doc3</th>\n",
       "      <td>0.04</td>\n",
       "      <td>0.04</td>\n",
       "      <td>0.86</td>\n",
       "      <td>0.04</td>\n",
       "      <td>0.04</td>\n",
       "    </tr>\n",
       "    <tr>\n",
       "      <th>Doc4</th>\n",
       "      <td>0.04</td>\n",
       "      <td>0.04</td>\n",
       "      <td>0.34</td>\n",
       "      <td>0.50</td>\n",
       "      <td>0.08</td>\n",
       "    </tr>\n",
       "  </tbody>\n",
       "</table>\n",
       "</div>"
      ],
      "text/plain": [
       "      Topic0  Topic1  Topic2  Topic3  Topic4\n",
       "Doc0    0.04    0.04    0.04    0.85    0.04\n",
       "Doc1    0.04    0.04    0.84    0.04    0.04\n",
       "Doc2    0.03    0.03    0.86    0.03    0.03\n",
       "Doc3    0.04    0.04    0.86    0.04    0.04\n",
       "Doc4    0.04    0.04    0.34    0.50    0.08"
      ]
     },
     "execution_count": 53,
     "metadata": {},
     "output_type": "execute_result"
    }
   ],
   "source": [
    "df_documemt_topic = pd.DataFrame(np.round(lda_output,2) , columns=topicname, index = docname)\n",
    "\n",
    "df_documemt_topic.head()"
   ]
  },
  {
   "cell_type": "code",
   "execution_count": 54,
   "metadata": {},
   "outputs": [
    {
     "data": {
      "text/plain": [
       "array([3, 2, 2, ..., 2, 1, 0], dtype=int64)"
      ]
     },
     "execution_count": 54,
     "metadata": {},
     "output_type": "execute_result"
    }
   ],
   "source": [
    "dominating_topic = np.argmax(df_documemt_topic.values, axis = 1)\n",
    "dominating_topic"
   ]
  },
  {
   "cell_type": "code",
   "execution_count": 55,
   "metadata": {},
   "outputs": [
    {
     "data": {
      "text/html": [
       "<div>\n",
       "<style scoped>\n",
       "    .dataframe tbody tr th:only-of-type {\n",
       "        vertical-align: middle;\n",
       "    }\n",
       "\n",
       "    .dataframe tbody tr th {\n",
       "        vertical-align: top;\n",
       "    }\n",
       "\n",
       "    .dataframe thead th {\n",
       "        text-align: right;\n",
       "    }\n",
       "</style>\n",
       "<table border=\"1\" class=\"dataframe\">\n",
       "  <thead>\n",
       "    <tr style=\"text-align: right;\">\n",
       "      <th></th>\n",
       "      <th>Topic0</th>\n",
       "      <th>Topic1</th>\n",
       "      <th>Topic2</th>\n",
       "      <th>Topic3</th>\n",
       "      <th>Topic4</th>\n",
       "      <th>Dom_topic</th>\n",
       "    </tr>\n",
       "  </thead>\n",
       "  <tbody>\n",
       "    <tr>\n",
       "      <th>Doc0</th>\n",
       "      <td>0.04</td>\n",
       "      <td>0.04</td>\n",
       "      <td>0.04</td>\n",
       "      <td>0.85</td>\n",
       "      <td>0.04</td>\n",
       "      <td>3</td>\n",
       "    </tr>\n",
       "    <tr>\n",
       "      <th>Doc1</th>\n",
       "      <td>0.04</td>\n",
       "      <td>0.04</td>\n",
       "      <td>0.84</td>\n",
       "      <td>0.04</td>\n",
       "      <td>0.04</td>\n",
       "      <td>2</td>\n",
       "    </tr>\n",
       "    <tr>\n",
       "      <th>Doc2</th>\n",
       "      <td>0.03</td>\n",
       "      <td>0.03</td>\n",
       "      <td>0.86</td>\n",
       "      <td>0.03</td>\n",
       "      <td>0.03</td>\n",
       "      <td>2</td>\n",
       "    </tr>\n",
       "    <tr>\n",
       "      <th>Doc3</th>\n",
       "      <td>0.04</td>\n",
       "      <td>0.04</td>\n",
       "      <td>0.86</td>\n",
       "      <td>0.04</td>\n",
       "      <td>0.04</td>\n",
       "      <td>2</td>\n",
       "    </tr>\n",
       "    <tr>\n",
       "      <th>Doc4</th>\n",
       "      <td>0.04</td>\n",
       "      <td>0.04</td>\n",
       "      <td>0.34</td>\n",
       "      <td>0.50</td>\n",
       "      <td>0.08</td>\n",
       "      <td>3</td>\n",
       "    </tr>\n",
       "  </tbody>\n",
       "</table>\n",
       "</div>"
      ],
      "text/plain": [
       "      Topic0  Topic1  Topic2  Topic3  Topic4  Dom_topic\n",
       "Doc0    0.04    0.04    0.04    0.85    0.04          3\n",
       "Doc1    0.04    0.04    0.84    0.04    0.04          2\n",
       "Doc2    0.03    0.03    0.86    0.03    0.03          2\n",
       "Doc3    0.04    0.04    0.86    0.04    0.04          2\n",
       "Doc4    0.04    0.04    0.34    0.50    0.08          3"
      ]
     },
     "execution_count": 55,
     "metadata": {},
     "output_type": "execute_result"
    }
   ],
   "source": [
    "df_documemt_topic['Dom_topic'] = dominating_topic\n",
    "df_documemt_topic.head()"
   ]
  },
  {
   "cell_type": "code",
   "execution_count": 56,
   "metadata": {},
   "outputs": [
    {
     "data": {
      "text/plain": [
       "2    112833\n",
       "3     59683\n",
       "0     19509\n",
       "1     18407\n",
       "4     16827\n",
       "Name: Dom_topic, dtype: int64"
      ]
     },
     "execution_count": 56,
     "metadata": {},
     "output_type": "execute_result"
    }
   ],
   "source": [
    "df_documemt_topic['Dom_topic'].value_counts()"
   ]
  },
  {
   "cell_type": "code",
   "execution_count": 57,
   "metadata": {},
   "outputs": [
    {
     "data": {
      "text/plain": [
       "array([[ 2.47919522,  0.7620028 ,  0.20001678, ...,  0.47354072,\n",
       "         0.22526698,  0.20001689],\n",
       "       [10.1055733 ,  0.20397085,  0.45339808, ...,  0.20001798,\n",
       "         0.20022366,  0.20001805],\n",
       "       [ 8.81728745,  0.20360718,  0.20113121, ...,  0.20050628,\n",
       "         0.46707223,  0.20000571],\n",
       "       [19.23250098,  0.54869431,  0.20000878, ...,  0.20000819,\n",
       "         0.25746636,  0.20174627],\n",
       "       [ 1.2492748 ,  0.4885806 ,  0.20001601, ...,  0.2000196 ,\n",
       "         0.20018905,  0.51009494]])"
      ]
     },
     "execution_count": 57,
     "metadata": {},
     "output_type": "execute_result"
    }
   ],
   "source": [
    "lda.components_"
   ]
  },
  {
   "cell_type": "code",
   "execution_count": 58,
   "metadata": {},
   "outputs": [
    {
     "data": {
      "text/html": [
       "<div>\n",
       "<style scoped>\n",
       "    .dataframe tbody tr th:only-of-type {\n",
       "        vertical-align: middle;\n",
       "    }\n",
       "\n",
       "    .dataframe tbody tr th {\n",
       "        vertical-align: top;\n",
       "    }\n",
       "\n",
       "    .dataframe thead th {\n",
       "        text-align: right;\n",
       "    }\n",
       "</style>\n",
       "<table border=\"1\" class=\"dataframe\">\n",
       "  <thead>\n",
       "    <tr style=\"text-align: right;\">\n",
       "      <th></th>\n",
       "      <th>0</th>\n",
       "      <th>1</th>\n",
       "      <th>2</th>\n",
       "      <th>3</th>\n",
       "      <th>4</th>\n",
       "      <th>5</th>\n",
       "      <th>6</th>\n",
       "      <th>7</th>\n",
       "      <th>8</th>\n",
       "      <th>9</th>\n",
       "      <th>...</th>\n",
       "      <th>225556</th>\n",
       "      <th>225557</th>\n",
       "      <th>225558</th>\n",
       "      <th>225559</th>\n",
       "      <th>225560</th>\n",
       "      <th>225561</th>\n",
       "      <th>225562</th>\n",
       "      <th>225563</th>\n",
       "      <th>225564</th>\n",
       "      <th>225565</th>\n",
       "    </tr>\n",
       "  </thead>\n",
       "  <tbody>\n",
       "    <tr>\n",
       "      <th>0</th>\n",
       "      <td>2.479195</td>\n",
       "      <td>0.762003</td>\n",
       "      <td>0.200017</td>\n",
       "      <td>0.200104</td>\n",
       "      <td>0.531961</td>\n",
       "      <td>0.599317</td>\n",
       "      <td>0.200050</td>\n",
       "      <td>0.200080</td>\n",
       "      <td>0.200080</td>\n",
       "      <td>0.200042</td>\n",
       "      <td>...</td>\n",
       "      <td>0.200016</td>\n",
       "      <td>0.645003</td>\n",
       "      <td>0.200025</td>\n",
       "      <td>0.796450</td>\n",
       "      <td>0.200021</td>\n",
       "      <td>0.200011</td>\n",
       "      <td>1.840798</td>\n",
       "      <td>0.473541</td>\n",
       "      <td>0.225267</td>\n",
       "      <td>0.200017</td>\n",
       "    </tr>\n",
       "    <tr>\n",
       "      <th>1</th>\n",
       "      <td>10.105573</td>\n",
       "      <td>0.203971</td>\n",
       "      <td>0.453398</td>\n",
       "      <td>0.200120</td>\n",
       "      <td>0.200040</td>\n",
       "      <td>0.200025</td>\n",
       "      <td>0.200077</td>\n",
       "      <td>0.200078</td>\n",
       "      <td>0.200078</td>\n",
       "      <td>0.200045</td>\n",
       "      <td>...</td>\n",
       "      <td>0.200017</td>\n",
       "      <td>0.200020</td>\n",
       "      <td>0.618463</td>\n",
       "      <td>0.240306</td>\n",
       "      <td>0.200021</td>\n",
       "      <td>0.453446</td>\n",
       "      <td>0.200025</td>\n",
       "      <td>0.200018</td>\n",
       "      <td>0.200224</td>\n",
       "      <td>0.200018</td>\n",
       "    </tr>\n",
       "    <tr>\n",
       "      <th>2</th>\n",
       "      <td>8.817287</td>\n",
       "      <td>0.203607</td>\n",
       "      <td>0.201131</td>\n",
       "      <td>1.142218</td>\n",
       "      <td>0.203971</td>\n",
       "      <td>0.200008</td>\n",
       "      <td>0.204974</td>\n",
       "      <td>0.818722</td>\n",
       "      <td>0.818722</td>\n",
       "      <td>0.519868</td>\n",
       "      <td>...</td>\n",
       "      <td>0.200005</td>\n",
       "      <td>0.200008</td>\n",
       "      <td>0.202491</td>\n",
       "      <td>0.529128</td>\n",
       "      <td>0.202019</td>\n",
       "      <td>0.200004</td>\n",
       "      <td>0.201918</td>\n",
       "      <td>0.200506</td>\n",
       "      <td>0.467072</td>\n",
       "      <td>0.200006</td>\n",
       "    </tr>\n",
       "    <tr>\n",
       "      <th>3</th>\n",
       "      <td>19.232501</td>\n",
       "      <td>0.548694</td>\n",
       "      <td>0.200009</td>\n",
       "      <td>0.200055</td>\n",
       "      <td>0.200022</td>\n",
       "      <td>0.201207</td>\n",
       "      <td>0.539241</td>\n",
       "      <td>0.200058</td>\n",
       "      <td>0.200058</td>\n",
       "      <td>0.200022</td>\n",
       "      <td>...</td>\n",
       "      <td>4.477813</td>\n",
       "      <td>0.200010</td>\n",
       "      <td>0.200015</td>\n",
       "      <td>0.200065</td>\n",
       "      <td>0.200011</td>\n",
       "      <td>0.200007</td>\n",
       "      <td>0.200895</td>\n",
       "      <td>0.200008</td>\n",
       "      <td>0.257466</td>\n",
       "      <td>0.201746</td>\n",
       "    </tr>\n",
       "    <tr>\n",
       "      <th>4</th>\n",
       "      <td>1.249275</td>\n",
       "      <td>0.488581</td>\n",
       "      <td>0.200016</td>\n",
       "      <td>0.200115</td>\n",
       "      <td>0.200041</td>\n",
       "      <td>0.200023</td>\n",
       "      <td>0.200085</td>\n",
       "      <td>0.200075</td>\n",
       "      <td>0.200075</td>\n",
       "      <td>0.200046</td>\n",
       "      <td>...</td>\n",
       "      <td>0.200017</td>\n",
       "      <td>0.200020</td>\n",
       "      <td>0.200028</td>\n",
       "      <td>0.574931</td>\n",
       "      <td>0.448958</td>\n",
       "      <td>0.200013</td>\n",
       "      <td>0.200025</td>\n",
       "      <td>0.200020</td>\n",
       "      <td>0.200189</td>\n",
       "      <td>0.510095</td>\n",
       "    </tr>\n",
       "  </tbody>\n",
       "</table>\n",
       "<p>5 rows × 225566 columns</p>\n",
       "</div>"
      ],
      "text/plain": [
       "      0         1         2         3         4         5         6       \\\n",
       "0   2.479195  0.762003  0.200017  0.200104  0.531961  0.599317  0.200050   \n",
       "1  10.105573  0.203971  0.453398  0.200120  0.200040  0.200025  0.200077   \n",
       "2   8.817287  0.203607  0.201131  1.142218  0.203971  0.200008  0.204974   \n",
       "3  19.232501  0.548694  0.200009  0.200055  0.200022  0.201207  0.539241   \n",
       "4   1.249275  0.488581  0.200016  0.200115  0.200041  0.200023  0.200085   \n",
       "\n",
       "     7         8         9       ...    225556    225557    225558    225559  \\\n",
       "0  0.200080  0.200080  0.200042  ...  0.200016  0.645003  0.200025  0.796450   \n",
       "1  0.200078  0.200078  0.200045  ...  0.200017  0.200020  0.618463  0.240306   \n",
       "2  0.818722  0.818722  0.519868  ...  0.200005  0.200008  0.202491  0.529128   \n",
       "3  0.200058  0.200058  0.200022  ...  4.477813  0.200010  0.200015  0.200065   \n",
       "4  0.200075  0.200075  0.200046  ...  0.200017  0.200020  0.200028  0.574931   \n",
       "\n",
       "     225560    225561    225562    225563    225564    225565  \n",
       "0  0.200021  0.200011  1.840798  0.473541  0.225267  0.200017  \n",
       "1  0.200021  0.453446  0.200025  0.200018  0.200224  0.200018  \n",
       "2  0.202019  0.200004  0.201918  0.200506  0.467072  0.200006  \n",
       "3  0.200011  0.200007  0.200895  0.200008  0.257466  0.201746  \n",
       "4  0.448958  0.200013  0.200025  0.200020  0.200189  0.510095  \n",
       "\n",
       "[5 rows x 225566 columns]"
      ]
     },
     "execution_count": 58,
     "metadata": {},
     "output_type": "execute_result"
    }
   ],
   "source": [
    "# Creating the dataframe between topic and terms\n",
    "\n",
    "df_topic_keywords = pd.DataFrame(lda.components_)\n",
    "\n",
    "df_topic_keywords"
   ]
  },
  {
   "cell_type": "code",
   "execution_count": 59,
   "metadata": {},
   "outputs": [
    {
     "data": {
      "text/html": [
       "<div>\n",
       "<style scoped>\n",
       "    .dataframe tbody tr th:only-of-type {\n",
       "        vertical-align: middle;\n",
       "    }\n",
       "\n",
       "    .dataframe tbody tr th {\n",
       "        vertical-align: top;\n",
       "    }\n",
       "\n",
       "    .dataframe thead th {\n",
       "        text-align: right;\n",
       "    }\n",
       "</style>\n",
       "<table border=\"1\" class=\"dataframe\">\n",
       "  <thead>\n",
       "    <tr style=\"text-align: right;\">\n",
       "      <th></th>\n",
       "      <th>aa</th>\n",
       "      <th>aaa</th>\n",
       "      <th>aaaa</th>\n",
       "      <th>aaaaa</th>\n",
       "      <th>aaaaaaaaaaaaa</th>\n",
       "      <th>aaaaaaaaaaaaaaaaaaaaaaaaaa</th>\n",
       "      <th>aaaaaaaaaathhooooooo</th>\n",
       "      <th>aaaaaaattttt</th>\n",
       "      <th>aaaaaaatttttkashmirhamarahai</th>\n",
       "      <th>aaaaaand</th>\n",
       "      <th>...</th>\n",
       "      <th>zxtcwsvmxzbrjxqwtntdkbhscppbcmeytnhzoqxniipwhplmjdvpdiokvk</th>\n",
       "      <th>zy</th>\n",
       "      <th>zyaada</th>\n",
       "      <th>zyada</th>\n",
       "      <th>zyadi</th>\n",
       "      <th>zyda</th>\n",
       "      <th>zzamitshahonarticlejammuandkashmir</th>\n",
       "      <th>zzmanishtewarishadesofgreycommenttwitterreacts</th>\n",
       "      <th>zztmkrishnarespondstojammukashmircrisiswithpoetry</th>\n",
       "      <th>zzwts</th>\n",
       "    </tr>\n",
       "  </thead>\n",
       "  <tbody>\n",
       "    <tr>\n",
       "      <th>Topic0</th>\n",
       "      <td>2.479195</td>\n",
       "      <td>0.762003</td>\n",
       "      <td>0.200017</td>\n",
       "      <td>0.200104</td>\n",
       "      <td>0.531961</td>\n",
       "      <td>0.599317</td>\n",
       "      <td>0.200050</td>\n",
       "      <td>0.200080</td>\n",
       "      <td>0.200080</td>\n",
       "      <td>0.200042</td>\n",
       "      <td>...</td>\n",
       "      <td>0.200016</td>\n",
       "      <td>0.645003</td>\n",
       "      <td>0.200025</td>\n",
       "      <td>0.796450</td>\n",
       "      <td>0.200021</td>\n",
       "      <td>0.200011</td>\n",
       "      <td>1.840798</td>\n",
       "      <td>0.473541</td>\n",
       "      <td>0.225267</td>\n",
       "      <td>0.200017</td>\n",
       "    </tr>\n",
       "    <tr>\n",
       "      <th>Topic1</th>\n",
       "      <td>10.105573</td>\n",
       "      <td>0.203971</td>\n",
       "      <td>0.453398</td>\n",
       "      <td>0.200120</td>\n",
       "      <td>0.200040</td>\n",
       "      <td>0.200025</td>\n",
       "      <td>0.200077</td>\n",
       "      <td>0.200078</td>\n",
       "      <td>0.200078</td>\n",
       "      <td>0.200045</td>\n",
       "      <td>...</td>\n",
       "      <td>0.200017</td>\n",
       "      <td>0.200020</td>\n",
       "      <td>0.618463</td>\n",
       "      <td>0.240306</td>\n",
       "      <td>0.200021</td>\n",
       "      <td>0.453446</td>\n",
       "      <td>0.200025</td>\n",
       "      <td>0.200018</td>\n",
       "      <td>0.200224</td>\n",
       "      <td>0.200018</td>\n",
       "    </tr>\n",
       "    <tr>\n",
       "      <th>Topic2</th>\n",
       "      <td>8.817287</td>\n",
       "      <td>0.203607</td>\n",
       "      <td>0.201131</td>\n",
       "      <td>1.142218</td>\n",
       "      <td>0.203971</td>\n",
       "      <td>0.200008</td>\n",
       "      <td>0.204974</td>\n",
       "      <td>0.818722</td>\n",
       "      <td>0.818722</td>\n",
       "      <td>0.519868</td>\n",
       "      <td>...</td>\n",
       "      <td>0.200005</td>\n",
       "      <td>0.200008</td>\n",
       "      <td>0.202491</td>\n",
       "      <td>0.529128</td>\n",
       "      <td>0.202019</td>\n",
       "      <td>0.200004</td>\n",
       "      <td>0.201918</td>\n",
       "      <td>0.200506</td>\n",
       "      <td>0.467072</td>\n",
       "      <td>0.200006</td>\n",
       "    </tr>\n",
       "    <tr>\n",
       "      <th>Topic3</th>\n",
       "      <td>19.232501</td>\n",
       "      <td>0.548694</td>\n",
       "      <td>0.200009</td>\n",
       "      <td>0.200055</td>\n",
       "      <td>0.200022</td>\n",
       "      <td>0.201207</td>\n",
       "      <td>0.539241</td>\n",
       "      <td>0.200058</td>\n",
       "      <td>0.200058</td>\n",
       "      <td>0.200022</td>\n",
       "      <td>...</td>\n",
       "      <td>4.477813</td>\n",
       "      <td>0.200010</td>\n",
       "      <td>0.200015</td>\n",
       "      <td>0.200065</td>\n",
       "      <td>0.200011</td>\n",
       "      <td>0.200007</td>\n",
       "      <td>0.200895</td>\n",
       "      <td>0.200008</td>\n",
       "      <td>0.257466</td>\n",
       "      <td>0.201746</td>\n",
       "    </tr>\n",
       "    <tr>\n",
       "      <th>Topic4</th>\n",
       "      <td>1.249275</td>\n",
       "      <td>0.488581</td>\n",
       "      <td>0.200016</td>\n",
       "      <td>0.200115</td>\n",
       "      <td>0.200041</td>\n",
       "      <td>0.200023</td>\n",
       "      <td>0.200085</td>\n",
       "      <td>0.200075</td>\n",
       "      <td>0.200075</td>\n",
       "      <td>0.200046</td>\n",
       "      <td>...</td>\n",
       "      <td>0.200017</td>\n",
       "      <td>0.200020</td>\n",
       "      <td>0.200028</td>\n",
       "      <td>0.574931</td>\n",
       "      <td>0.448958</td>\n",
       "      <td>0.200013</td>\n",
       "      <td>0.200025</td>\n",
       "      <td>0.200020</td>\n",
       "      <td>0.200189</td>\n",
       "      <td>0.510095</td>\n",
       "    </tr>\n",
       "  </tbody>\n",
       "</table>\n",
       "<p>5 rows × 225566 columns</p>\n",
       "</div>"
      ],
      "text/plain": [
       "               aa       aaa      aaaa     aaaaa  aaaaaaaaaaaaa  \\\n",
       "Topic0   2.479195  0.762003  0.200017  0.200104       0.531961   \n",
       "Topic1  10.105573  0.203971  0.453398  0.200120       0.200040   \n",
       "Topic2   8.817287  0.203607  0.201131  1.142218       0.203971   \n",
       "Topic3  19.232501  0.548694  0.200009  0.200055       0.200022   \n",
       "Topic4   1.249275  0.488581  0.200016  0.200115       0.200041   \n",
       "\n",
       "        aaaaaaaaaaaaaaaaaaaaaaaaaa  aaaaaaaaaathhooooooo  aaaaaaattttt  \\\n",
       "Topic0                    0.599317              0.200050      0.200080   \n",
       "Topic1                    0.200025              0.200077      0.200078   \n",
       "Topic2                    0.200008              0.204974      0.818722   \n",
       "Topic3                    0.201207              0.539241      0.200058   \n",
       "Topic4                    0.200023              0.200085      0.200075   \n",
       "\n",
       "        aaaaaaatttttkashmirhamarahai  aaaaaand  ...  \\\n",
       "Topic0                      0.200080  0.200042  ...   \n",
       "Topic1                      0.200078  0.200045  ...   \n",
       "Topic2                      0.818722  0.519868  ...   \n",
       "Topic3                      0.200058  0.200022  ...   \n",
       "Topic4                      0.200075  0.200046  ...   \n",
       "\n",
       "        zxtcwsvmxzbrjxqwtntdkbhscppbcmeytnhzoqxniipwhplmjdvpdiokvk        zy  \\\n",
       "Topic0                                           0.200016           0.645003   \n",
       "Topic1                                           0.200017           0.200020   \n",
       "Topic2                                           0.200005           0.200008   \n",
       "Topic3                                           4.477813           0.200010   \n",
       "Topic4                                           0.200017           0.200020   \n",
       "\n",
       "          zyaada     zyada     zyadi      zyda  \\\n",
       "Topic0  0.200025  0.796450  0.200021  0.200011   \n",
       "Topic1  0.618463  0.240306  0.200021  0.453446   \n",
       "Topic2  0.202491  0.529128  0.202019  0.200004   \n",
       "Topic3  0.200015  0.200065  0.200011  0.200007   \n",
       "Topic4  0.200028  0.574931  0.448958  0.200013   \n",
       "\n",
       "        zzamitshahonarticlejammuandkashmir  \\\n",
       "Topic0                            1.840798   \n",
       "Topic1                            0.200025   \n",
       "Topic2                            0.201918   \n",
       "Topic3                            0.200895   \n",
       "Topic4                            0.200025   \n",
       "\n",
       "        zzmanishtewarishadesofgreycommenttwitterreacts  \\\n",
       "Topic0                                        0.473541   \n",
       "Topic1                                        0.200018   \n",
       "Topic2                                        0.200506   \n",
       "Topic3                                        0.200008   \n",
       "Topic4                                        0.200020   \n",
       "\n",
       "        zztmkrishnarespondstojammukashmircrisiswithpoetry     zzwts  \n",
       "Topic0                                           0.225267  0.200017  \n",
       "Topic1                                           0.200224  0.200018  \n",
       "Topic2                                           0.467072  0.200006  \n",
       "Topic3                                           0.257466  0.201746  \n",
       "Topic4                                           0.200189  0.510095  \n",
       "\n",
       "[5 rows x 225566 columns]"
      ]
     },
     "execution_count": 59,
     "metadata": {},
     "output_type": "execute_result"
    }
   ],
   "source": [
    "# Naming the Columns and Rows\n",
    "\n",
    "df_topic_keywords.columns = vect.get_feature_names()\n",
    "\n",
    "df_topic_keywords.index = topicname\n",
    "\n",
    "df_topic_keywords"
   ]
  },
  {
   "cell_type": "code",
   "execution_count": 60,
   "metadata": {},
   "outputs": [
    {
     "data": {
      "text/plain": [
       "[array(['article', 'kashmir', 'https', 'httpswww', 'india', 'pakistan',\n",
       "        'says', 'revoked', 'jammuandkashmir', 'articlerevoked', 'indian',\n",
       "        'every', 'news', 'jammu', 'kashmirhamarahai', 'internal', 'jk',\n",
       "        'status', 'matter', 'like'], dtype='<U430'),\n",
       " array(['article', 'https', 'httpswww', 'kashmir', 'via', 'aindia', 'news',\n",
       "        'special', 'status', 'bbc', 'india', 'bbccomnewsworldasi',\n",
       "        'youtube', 'bbccouknewsworldasi',\n",
       "        'economictimesindiatimescomnewspolitics', 'http', 'jk', 'scrapped',\n",
       "        'hai', 'scrapping'], dtype='<U430'),\n",
       " array(['article', 'kashmir', 'india', 'people', 'https', 'indian',\n",
       "        'pakistan', 'jk', 'dont', 'kashmiri', 'state', 'like', 'know',\n",
       "        'congress', 'abrogation', 'kashmiris', 'govt', 'constitution',\n",
       "        'even', 'scrapping'], dtype='<U430'),\n",
       " array(['article', 'amitshah', 'narendramodi', 'one', 'india', 'kashmir',\n",
       "        'historic', 'kashmirhamarahai', 'ji', 'modi', 'scrapped', 'jammu',\n",
       "        'day', 'jammuandkashmir', 'decision', 'congratulations', 'union',\n",
       "        'minister', 'jai', 'jk'], dtype='<U430'),\n",
       " array(['article', 'https', 'httpswww', 'via', 'http', 'kashmir',\n",
       "        'congress', 'bjp', 'jammu', 'says', 'amit', 'scrapped', 'modi',\n",
       "        'jdu', 'india', 'shah', 'pakistan', 'govt', 'status', 'special'],\n",
       "       dtype='<U430')]"
      ]
     },
     "execution_count": 60,
     "metadata": {},
     "output_type": "execute_result"
    }
   ],
   "source": [
    "#  Finding The top 20 words for each topic\n",
    "\n",
    "def show_topic(vect , lda , n_words):\n",
    "    keywords = np.array(vect.get_feature_names())\n",
    "    topic_keywords = []\n",
    "    for topic_weights in lda.components_:\n",
    "        topic_keywords_locs = (-topic_weights).argsort()[:n_words]\n",
    "        topic_keywords.append(keywords.take(topic_keywords_locs))\n",
    "    return topic_keywords\n",
    "\n",
    "topic_keywords = show_topic(vect = vect , lda=lda , n_words=20)\n",
    "topic_keywords"
   ]
  },
  {
   "cell_type": "code",
   "execution_count": 61,
   "metadata": {},
   "outputs": [
    {
     "data": {
      "text/html": [
       "<div>\n",
       "<style scoped>\n",
       "    .dataframe tbody tr th:only-of-type {\n",
       "        vertical-align: middle;\n",
       "    }\n",
       "\n",
       "    .dataframe tbody tr th {\n",
       "        vertical-align: top;\n",
       "    }\n",
       "\n",
       "    .dataframe thead th {\n",
       "        text-align: right;\n",
       "    }\n",
       "</style>\n",
       "<table border=\"1\" class=\"dataframe\">\n",
       "  <thead>\n",
       "    <tr style=\"text-align: right;\">\n",
       "      <th></th>\n",
       "      <th>0</th>\n",
       "      <th>1</th>\n",
       "      <th>2</th>\n",
       "      <th>3</th>\n",
       "      <th>4</th>\n",
       "      <th>5</th>\n",
       "      <th>6</th>\n",
       "      <th>7</th>\n",
       "      <th>8</th>\n",
       "      <th>9</th>\n",
       "      <th>10</th>\n",
       "      <th>11</th>\n",
       "      <th>12</th>\n",
       "      <th>13</th>\n",
       "      <th>14</th>\n",
       "      <th>15</th>\n",
       "      <th>16</th>\n",
       "      <th>17</th>\n",
       "      <th>18</th>\n",
       "      <th>19</th>\n",
       "    </tr>\n",
       "  </thead>\n",
       "  <tbody>\n",
       "    <tr>\n",
       "      <th>0</th>\n",
       "      <td>article</td>\n",
       "      <td>kashmir</td>\n",
       "      <td>https</td>\n",
       "      <td>httpswww</td>\n",
       "      <td>india</td>\n",
       "      <td>pakistan</td>\n",
       "      <td>says</td>\n",
       "      <td>revoked</td>\n",
       "      <td>jammuandkashmir</td>\n",
       "      <td>articlerevoked</td>\n",
       "      <td>indian</td>\n",
       "      <td>every</td>\n",
       "      <td>news</td>\n",
       "      <td>jammu</td>\n",
       "      <td>kashmirhamarahai</td>\n",
       "      <td>internal</td>\n",
       "      <td>jk</td>\n",
       "      <td>status</td>\n",
       "      <td>matter</td>\n",
       "      <td>like</td>\n",
       "    </tr>\n",
       "    <tr>\n",
       "      <th>1</th>\n",
       "      <td>article</td>\n",
       "      <td>https</td>\n",
       "      <td>httpswww</td>\n",
       "      <td>kashmir</td>\n",
       "      <td>via</td>\n",
       "      <td>aindia</td>\n",
       "      <td>news</td>\n",
       "      <td>special</td>\n",
       "      <td>status</td>\n",
       "      <td>bbc</td>\n",
       "      <td>india</td>\n",
       "      <td>bbccomnewsworldasi</td>\n",
       "      <td>youtube</td>\n",
       "      <td>bbccouknewsworldasi</td>\n",
       "      <td>economictimesindiatimescomnewspolitics</td>\n",
       "      <td>http</td>\n",
       "      <td>jk</td>\n",
       "      <td>scrapped</td>\n",
       "      <td>hai</td>\n",
       "      <td>scrapping</td>\n",
       "    </tr>\n",
       "    <tr>\n",
       "      <th>2</th>\n",
       "      <td>article</td>\n",
       "      <td>kashmir</td>\n",
       "      <td>india</td>\n",
       "      <td>people</td>\n",
       "      <td>https</td>\n",
       "      <td>indian</td>\n",
       "      <td>pakistan</td>\n",
       "      <td>jk</td>\n",
       "      <td>dont</td>\n",
       "      <td>kashmiri</td>\n",
       "      <td>state</td>\n",
       "      <td>like</td>\n",
       "      <td>know</td>\n",
       "      <td>congress</td>\n",
       "      <td>abrogation</td>\n",
       "      <td>kashmiris</td>\n",
       "      <td>govt</td>\n",
       "      <td>constitution</td>\n",
       "      <td>even</td>\n",
       "      <td>scrapping</td>\n",
       "    </tr>\n",
       "    <tr>\n",
       "      <th>3</th>\n",
       "      <td>article</td>\n",
       "      <td>amitshah</td>\n",
       "      <td>narendramodi</td>\n",
       "      <td>one</td>\n",
       "      <td>india</td>\n",
       "      <td>kashmir</td>\n",
       "      <td>historic</td>\n",
       "      <td>kashmirhamarahai</td>\n",
       "      <td>ji</td>\n",
       "      <td>modi</td>\n",
       "      <td>scrapped</td>\n",
       "      <td>jammu</td>\n",
       "      <td>day</td>\n",
       "      <td>jammuandkashmir</td>\n",
       "      <td>decision</td>\n",
       "      <td>congratulations</td>\n",
       "      <td>union</td>\n",
       "      <td>minister</td>\n",
       "      <td>jai</td>\n",
       "      <td>jk</td>\n",
       "    </tr>\n",
       "    <tr>\n",
       "      <th>4</th>\n",
       "      <td>article</td>\n",
       "      <td>https</td>\n",
       "      <td>httpswww</td>\n",
       "      <td>via</td>\n",
       "      <td>http</td>\n",
       "      <td>kashmir</td>\n",
       "      <td>congress</td>\n",
       "      <td>bjp</td>\n",
       "      <td>jammu</td>\n",
       "      <td>says</td>\n",
       "      <td>amit</td>\n",
       "      <td>scrapped</td>\n",
       "      <td>modi</td>\n",
       "      <td>jdu</td>\n",
       "      <td>india</td>\n",
       "      <td>shah</td>\n",
       "      <td>pakistan</td>\n",
       "      <td>govt</td>\n",
       "      <td>status</td>\n",
       "      <td>special</td>\n",
       "    </tr>\n",
       "  </tbody>\n",
       "</table>\n",
       "</div>"
      ],
      "text/plain": [
       "        0         1             2         3      4         5         6   \\\n",
       "0  article   kashmir         https  httpswww  india  pakistan      says   \n",
       "1  article     https      httpswww   kashmir    via    aindia      news   \n",
       "2  article   kashmir         india    people  https    indian  pakistan   \n",
       "3  article  amitshah  narendramodi       one  india   kashmir  historic   \n",
       "4  article     https      httpswww       via   http   kashmir  congress   \n",
       "\n",
       "                 7                8               9         10  \\\n",
       "0           revoked  jammuandkashmir  articlerevoked    indian   \n",
       "1           special           status             bbc     india   \n",
       "2                jk             dont        kashmiri     state   \n",
       "3  kashmirhamarahai               ji            modi  scrapped   \n",
       "4               bjp            jammu            says      amit   \n",
       "\n",
       "                   11       12                   13  \\\n",
       "0               every     news                jammu   \n",
       "1  bbccomnewsworldasi  youtube  bbccouknewsworldasi   \n",
       "2                like     know             congress   \n",
       "3               jammu      day      jammuandkashmir   \n",
       "4            scrapped     modi                  jdu   \n",
       "\n",
       "                                       14               15        16  \\\n",
       "0                        kashmirhamarahai         internal        jk   \n",
       "1  economictimesindiatimescomnewspolitics             http        jk   \n",
       "2                              abrogation        kashmiris      govt   \n",
       "3                                decision  congratulations     union   \n",
       "4                                   india             shah  pakistan   \n",
       "\n",
       "             17      18         19  \n",
       "0        status  matter       like  \n",
       "1      scrapped     hai  scrapping  \n",
       "2  constitution    even  scrapping  \n",
       "3      minister     jai         jk  \n",
       "4          govt  status    special  "
      ]
     },
     "execution_count": 61,
     "metadata": {},
     "output_type": "execute_result"
    }
   ],
   "source": [
    "# Creating a DataFrame\n",
    "\n",
    "df_topic_keywords = pd.DataFrame(topic_keywords)\n",
    "df_topic_keywords"
   ]
  },
  {
   "cell_type": "code",
   "execution_count": null,
   "metadata": {},
   "outputs": [],
   "source": []
  }
 ],
 "metadata": {
  "kernelspec": {
   "display_name": "Python 3",
   "language": "python",
   "name": "python3"
  },
  "language_info": {
   "codemirror_mode": {
    "name": "ipython",
    "version": 3
   },
   "file_extension": ".py",
   "mimetype": "text/x-python",
   "name": "python",
   "nbconvert_exporter": "python",
   "pygments_lexer": "ipython3",
   "version": "3.7.3"
  }
 },
 "nbformat": 4,
 "nbformat_minor": 2
}
